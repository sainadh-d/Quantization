{
 "cells": [
  {
   "cell_type": "code",
   "execution_count": 1,
   "id": "0302d972-0662-4251-8745-8fcda637d98d",
   "metadata": {},
   "outputs": [],
   "source": [
    "import torch\n",
    "import torchvision\n",
    "from torchvision import datasets, transforms\n",
    "import torch.nn as nn\n",
    "import torch.optim as optim\n",
    "import numpy as np\n",
    "from pylab import *\n",
    "import os\n",
    "\n",
    "torch.manual_seed(0)\n",
    "\n",
    "device = torch.device('cuda' if torch.cuda.is_available() else 'cpu')"
   ]
  },
  {
   "cell_type": "code",
   "execution_count": 2,
   "id": "a356db18-b152-4155-88d6-afdc83793c8f",
   "metadata": {},
   "outputs": [],
   "source": [
    "# Load MNIST dataset\n",
    "transform = transforms.Compose([transforms.ToTensor()])\n",
    "\n",
    "train_dataset = datasets.MNIST(root='./data', train=True, download=True, transform=transform)\n",
    "test_dataset = datasets.MNIST(root='./data', train=False, download=True, transform=transform)"
   ]
  },
  {
   "cell_type": "code",
   "execution_count": 3,
   "id": "7a14cad0-23b7-41b4-a9cf-7755feff5a9e",
   "metadata": {},
   "outputs": [
    {
     "data": {
      "text/plain": [
       "(<matplotlib.image.AxesImage at 0x142a5e010>, 5)"
      ]
     },
     "execution_count": 3,
     "metadata": {},
     "output_type": "execute_result"
    },
    {
     "data": {
      "image/png": "[encoded data removed]",
      "text/plain": [
       "<Figure size 640x480 with 1 Axes>"
      ]
     },
     "metadata": {},
     "output_type": "display_data"
    }
   ],
   "source": [
    "imshow(train_dataset[0][0][0]), train_dataset[0][1]"
   ]
  },
  {
   "cell_type": "code",
   "execution_count": 4,
   "id": "35d5e1b4-61f7-4bf6-bfc1-645f3e0a025d",
   "metadata": {},
   "outputs": [],
   "source": [
    "class Net(nn.Module):\n",
    "    def __init__(self):\n",
    "        super(Net, self).__init__()\n",
    "        self.fc1 = nn.Linear(784, 128)\n",
    "        self.relu = nn.ReLU()\n",
    "        self.drop = nn.Dropout2d(p=0.2)\n",
    "        self.fc2 = nn.Linear(128, 10)\n",
    "\n",
    "    def forward(self, x):\n",
    "        out = x.view(-1, 784) # flatten the input\n",
    "        out = self.relu(self.fc1(out))\n",
    "        out = self.drop(out)\n",
    "        out = self.fc2(out)\n",
    "        return out"
   ]
  },
  {
   "cell_type": "code",
   "execution_count": 5,
   "id": "30149b78-0367-40dd-8730-5202672fc45a",
   "metadata": {},
   "outputs": [],
   "source": [
    "# Data Loader \n",
    "batch_size = 64\n",
    "train_loader = torch.utils.data.DataLoader(dataset=train_dataset, batch_size=batch_size, shuffle=True)\n",
    "test_loader = torch.utils.data.DataLoader(dataset=test_dataset, batch_size=1, shuffle=False)"
   ]
  },
  {
   "cell_type": "code",
   "execution_count": 6,
   "id": "dacc9fca-16fd-4d8a-9935-667f59103e5c",
   "metadata": {},
   "outputs": [],
   "source": [
    "model = Net()\n",
    "model.to(device)\n",
    "criterion = nn.CrossEntropyLoss()\n",
    "optimizer = optim.Adam(model.parameters(), lr=0.001)"
   ]
  },
  {
   "cell_type": "code",
   "execution_count": 7,
   "id": "ed34417e-e1e9-4266-8e84-cbe61b126d40",
   "metadata": {},
   "outputs": [
    {
     "name": "stderr",
     "output_type": "stream",
     "text": [
      "/Users/saidev/pyenvs/ml-env/lib/python3.11/site-packages/torch/nn/functional.py:1345: UserWarning: dropout2d: Received a 2-D input to dropout2d, which is deprecated and will result in an error in a future release. To retain the behavior and silence this warning, please use dropout instead. Note that dropout2d exists to provide channel-wise dropout on inputs with 2 spatial dimensions, a channel dimension, and an optional batch dimension (i.e. 3D or 4D inputs).\n",
      "  warnings.warn(warn_msg)\n"
     ]
    },
    {
     "name": "stdout",
     "output_type": "stream",
     "text": [
      "Epoch: 1, Loss: 0.371\n",
      "Epoch: 2, Loss: 0.179\n",
      "Epoch: 3, Loss: 0.133\n",
      "Epoch: 4, Loss: 0.106\n",
      "Epoch: 5, Loss: 0.093\n",
      "Epoch: 6, Loss: 0.080\n",
      "Epoch: 7, Loss: 0.071\n",
      "Epoch: 8, Loss: 0.063\n",
      "Epoch: 9, Loss: 0.059\n",
      "Epoch: 10, Loss: 0.053\n"
     ]
    }
   ],
   "source": [
    "# Train the model\n",
    "for epoch in range(10):  # loop over the dataset multiple times\n",
    "    running_loss = 0.0\n",
    "    for i, data in enumerate(train_loader):\n",
    "        inputs, labels = data\n",
    "        inputs, labels = inputs.to(device), labels.to(device)\n",
    "        \n",
    "        optimizer.zero_grad()\n",
    "        \n",
    "        outputs = model(inputs)\n",
    "        loss = criterion(outputs, labels)\n",
    "        \n",
    "        loss.backward()\n",
    "        optimizer.step()\n",
    "\n",
    "        running_loss += loss.item()\n",
    "    print('Epoch: %d, Loss: %.3f' % (epoch+1, running_loss/(i+1)))"
   ]
  },
  {
   "cell_type": "code",
   "execution_count": 8,
   "id": "2ec04417-b71c-4159-95f7-991fefba895e",
   "metadata": {},
   "outputs": [],
   "source": [
    "def evaluate_model(model):\n",
    "    model.eval()\n",
    "    with torch.no_grad():\n",
    "        total_correct = 0\n",
    "        total_samples = 0\n",
    "        for inputs, labels in test_loader:\n",
    "            inputs, labels = inputs.to(device), labels.to(device)\n",
    "            \n",
    "            outputs = model(inputs)\n",
    "            predicted = torch.argmax(outputs)\n",
    "            total_correct += (predicted == labels).sum().item()\n",
    "            total_samples += len(labels)\n",
    "        \n",
    "        accuracy = total_correct / total_samples\n",
    "        print(\"Accuracy:\", accuracy)"
   ]
  },
  {
   "cell_type": "code",
   "execution_count": 9,
   "id": "148189f8-c57b-43d0-9bf5-5a1f7d4b306b",
   "metadata": {},
   "outputs": [
    {
     "name": "stdout",
     "output_type": "stream",
     "text": [
      "Accuracy: 0.9797\n"
     ]
    }
   ],
   "source": [
    "evaluate_model(model)"
   ]
  },
  {
   "cell_type": "code",
   "execution_count": 10,
   "id": "ffbee8ea-dc50-4aa4-9ca1-f3b8e5fdb01d",
   "metadata": {},
   "outputs": [],
   "source": [
    "# Save the original weights\n",
    "torch.save(model.state_dict(), 'mnist_model.pth')"
   ]
  },
  {
   "cell_type": "markdown",
   "id": "8be75958-783f-45f4-a1f7-4381ac7fea68",
   "metadata": {},
   "source": [
    "## Quantization"
   ]
  },
  {
   "cell_type": "code",
   "execution_count": 11,
   "id": "53306e59-d4ca-452a-83f9-55b72e4b4398",
   "metadata": {},
   "outputs": [],
   "source": [
    "from torch.quantization import quantize_dynamic"
   ]
  },
  {
   "cell_type": "code",
   "execution_count": 16,
   "id": "ce8feffd-8076-4df1-bfc9-732ec5b474fe",
   "metadata": {},
   "outputs": [],
   "source": [
    "torch.backends.quantized.engine = 'qnnpack'"
   ]
  },
  {
   "cell_type": "code",
   "execution_count": 17,
   "id": "0fea3e59-1942-4d2a-89a9-eff02c280c5c",
   "metadata": {},
   "outputs": [],
   "source": [
    "quantized_model = quantize_dynamic(model, {nn.Linear}, dtype=torch.qint8)\n",
    "torch.save(quantized_model.state_dict(), 'quantized_mnist_model.pth')"
   ]
  },
  {
   "cell_type": "code",
   "execution_count": 18,
   "id": "427b0c38-4602-4aa9-9bd9-6a5a10182718",
   "metadata": {},
   "outputs": [
    {
     "data": {
      "text/plain": [
       "Net(\n",
       "  (fc1): DynamicQuantizedLinear(in_features=784, out_features=128, dtype=torch.qint8, qscheme=torch.per_tensor_affine)\n",
       "  (relu): ReLU()\n",
       "  (drop): Dropout2d(p=0.2, inplace=False)\n",
       "  (fc2): DynamicQuantizedLinear(in_features=128, out_features=10, dtype=torch.qint8, qscheme=torch.per_tensor_affine)\n",
       ")"
      ]
     },
     "execution_count": 18,
     "metadata": {},
     "output_type": "execute_result"
    }
   ],
   "source": [
    "quantized_model"
   ]
  },
  {
   "cell_type": "markdown",
   "id": "eb14fcc5-3db8-4ea7-bbf7-f36d1b4a1e7b",
   "metadata": {},
   "source": [
    "### Comparison"
   ]
  },
  {
   "cell_type": "code",
   "execution_count": 19,
   "id": "fdae4986-7f49-4998-a0ac-1074dfef68d8",
   "metadata": {},
   "outputs": [
    {
     "name": "stdout",
     "output_type": "stream",
     "text": [
      "Original weights size: 409.2 kb\n",
      "Quantized weights size: 105.704 kb\n"
     ]
    }
   ],
   "source": [
    "original_size = os.path.getsize('mnist_model.pth')\n",
    "print(f\"Original weights size: {original_size/1e3} kb\")\n",
    "\n",
    "quantized_size = os.path.getsize('quantized_mnist_model.pth')\n",
    "print(f\"Quantized weights size: {quantized_size/1000} kb\")"
   ]
  },
  {
   "cell_type": "code",
   "execution_count": 20,
   "id": "4f340a60-5c35-4201-8b23-f50e00a19aa5",
   "metadata": {},
   "outputs": [
    {
     "name": "stdout",
     "output_type": "stream",
     "text": [
      "Accuracy: 0.9797\n"
     ]
    }
   ],
   "source": [
    "evaluate_model(model)"
   ]
  },
  {
   "cell_type": "code",
   "execution_count": 21,
   "id": "14b1de7e-9639-46e6-9de3-5987210e2736",
   "metadata": {},
   "outputs": [
    {
     "name": "stderr",
     "output_type": "stream",
     "text": [
      "[W qlinear_dynamic.cpp:247] Warning: Currently, qnnpack incorrectly ignores reduce_range when it is set to true; this may change in a future release. (function operator())\n"
     ]
    },
    {
     "name": "stdout",
     "output_type": "stream",
     "text": [
      "Accuracy: 0.9795\n"
     ]
    }
   ],
   "source": [
    "evaluate_model(quantized_model)"
   ]
  },
  {
   "cell_type": "code",
   "execution_count": null,
   "id": "b4441ef8-e2e6-4d70-af5c-551b8a28da37",
   "metadata": {},
   "outputs": [],
   "source": []
  }
 ],
 "metadata": {
  "kernelspec": {
   "display_name": "Python 3 (ipykernel)",
   "language": "python",
   "name": "python3"
  },
  "language_info": {
   "codemirror_mode": {
    "name": "ipython",
    "version": 3
   },
   "file_extension": ".py",
   "mimetype": "text/x-python",
   "name": "python",
   "nbconvert_exporter": "python",
   "pygments_lexer": "ipython3",
   "version": "3.11.9"
  },
  "widgets": {
   "application/vnd.jupyter.widget-state+json": {
    "state": {},
    "version_major": 2,
    "version_minor": 0
   }
  }
 },
 "nbformat": 4,
 "nbformat_minor": 5
}
